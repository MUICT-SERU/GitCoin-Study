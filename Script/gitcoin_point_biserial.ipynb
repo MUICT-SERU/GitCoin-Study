{
 "cells": [
  {
   "cell_type": "code",
   "execution_count": null,
   "metadata": {},
   "outputs": [],
   "source": [
    "#pointbiserialr used in Random Forests setting 1\n",
    "\n",
    "from scipy.stats import pointbiserialr\n",
    "\n",
    "for x in bootstrapped_set1.drop(['is_success','pk'], axis = 1):\n",
    "    pbs = pointbiserialr(bootstrapped_set1['is_success'], bootstrapped_set1[x])\n",
    "    if pbs.correlation >0 and pbs.pvalue < 0.05:\n",
    "        print (x)\n",
    "        print (pbs.correlation)\n",
    "        print (pbs.pvalue)\n",
    "        \n",
    "print (\"-------------------------------------\")\n",
    "\n",
    "for x in bootstrapped_set1.drop(['is_success','pk'], axis = 1):\n",
    "    pbs = pointbiserialr(bootstrapped_set1['is_success'], bootstrapped_set1[x])\n",
    "    if pbs.correlation <0 and pbs.pvalue < 0.05:\n",
    "        print (x)\n",
    "        print (pbs.correlation)\n",
    "        print (pbs.pvalue)"
   ]
  },
  {
   "cell_type": "code",
   "execution_count": null,
   "metadata": {},
   "outputs": [],
   "source": [
    "#pointbiserialr used in Random Forests setting 2\n",
    "\n",
    "from scipy.stats import pointbiserialr\n",
    "\n",
    "for x in bootstrapped_set2.drop(['is_success','pk','github_comments','number_of_activities','number_of_fulfillments',\n",
    "                       'number_of_interests','duration_create_to_done','duration_create_to_firstAct',\n",
    "                       'duration_create_to_lastAct','duration_create_to_submitted','duration_create_to_killed',\n",
    "                        'duration_create_to_start','duration_create_to_stop','duration_create_to_worker_applied',\n",
    "                        'number_of_user_in_activities','changed_bounty_value','increased_bounty_times',\n",
    "                        'firstAct_activity_type','lastAct_activity_type'], axis = 1):\n",
    "    pbs = pointbiserialr(bootstrapped_set2['is_success'], bootstrapped_set2[x])   \n",
    "    if pbs.correlation >0 and pbs.pvalue < 0.05:\n",
    "        print (x)\n",
    "        print (pbs.correlation)\n",
    "        print (pbs.pvalue)\n",
    "        \n",
    "print (\"-----\")\n",
    "for x in bootstrapped_set2.drop(['is_success','pk','github_comments','number_of_activities','number_of_fulfillments',\n",
    "                       'number_of_interests','duration_create_to_done','duration_create_to_firstAct',\n",
    "                       'duration_create_to_lastAct','duration_create_to_submitted','duration_create_to_killed',\n",
    "                        'duration_create_to_start','duration_create_to_stop','duration_create_to_worker_applied',\n",
    "                        'number_of_user_in_activities','changed_bounty_value','increased_bounty_times',\n",
    "                        'firstAct_activity_type','lastAct_activity_type'], axis = 1):\n",
    "    pbs = pointbiserialr(bootstrapped_set2['is_success'], bootstrapped_set2[x])   \n",
    "    if pbs.correlation <0 and pbs.pvalue < 0.05:\n",
    "        print (x)\n",
    "        print (pbs.correlation)\n",
    "        print (pbs.pvalue)"
   ]
  }
 ],
 "metadata": {
  "kernelspec": {
   "display_name": "Python 3",
   "language": "python",
   "name": "python3"
  },
  "language_info": {
   "codemirror_mode": {
    "name": "ipython",
    "version": 3
   },
   "file_extension": ".py",
   "mimetype": "text/x-python",
   "name": "python",
   "nbconvert_exporter": "python",
   "pygments_lexer": "ipython3",
   "version": "3.8.5"
  }
 },
 "nbformat": 4,
 "nbformat_minor": 4
}
